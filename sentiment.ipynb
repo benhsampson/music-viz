{
 "cells": [
  {
   "cell_type": "code",
   "execution_count": 5,
   "metadata": {},
   "outputs": [],
   "source": [
    "#!pip install -q transformers\n",
    "\n",
    "from transformers import pipeline"
   ]
  },
  {
   "cell_type": "markdown",
   "metadata": {},
   "source": [
    "# TODO: input way to grab lyrics"
   ]
  },
  {
   "cell_type": "code",
   "execution_count": 306,
   "metadata": {},
   "outputs": [],
   "source": [
    "lyrics = \"First of March, it's clear to me There's something that's uncomforting Your body has a way with me But I'm exactly where I wanna be But I'm a long way from home I know your voice, I know your face This is something I cannot replace Give me hope and give me doubt Well I loved you then but I don't love you now I'm a long way from home 'Cause we're a long way from home No listen now, don't walk away I've got nothing more to say Can you see it in my dying face You're acting like I care Now is there anything that I can do If there was would we be singing 'Cause, you're a part of me and I'm a part of you 'Cause, you're a part of me and I'm a part of you 'Cause, you're a part of me and I'm a part of you 'Cause, you're a part of me and I'm a part of you\""
   ]
  },
  {
   "cell_type": "code",
   "execution_count": 316,
   "metadata": {},
   "outputs": [
    {
     "name": "stdout",
     "output_type": "stream",
     "text": [
      "It might seem crazy what I am 'bout to say Sunshine, she's here, you can take a break I'm a hot air balloon that could go to space With the air, like I don't care, baby by the way Huh (Because I'm happy) Clap along if you feel like a room without a roof (Because I'm happy) Clap along if you feel like happiness is the truth (Because I'm happy) Clap along if you know what happiness is to you (Because I'm happy) Clap along if you feel like that's what you wanna do Here come bad news talking this and that (Yeah\n"
     ]
    }
   ],
   "source": [
    "lyrics = '''It might seem crazy what I am 'bout to say\n",
    "Sunshine, she's here, you can take a break\n",
    "I'm a hot air balloon that could go to space\n",
    "With the air, like I don't care, baby by the way\n",
    "Huh (Because I'm happy)\n",
    "Clap along if you feel like a room without a roof\n",
    "(Because I'm happy)\n",
    "Clap along if you feel like happiness is the truth\n",
    "(Because I'm happy)\n",
    "Clap along if you know what happiness is to you\n",
    "(Because I'm happy)\n",
    "Clap along if you feel like that's what you wanna do\n",
    "Here come bad news talking this and that (Yeah)\n",
    "Well give me all you got, don't hold back (Yeah)\n",
    "Well I should probably warn you I'll be just fine (Yeah)\n",
    "No offense to you don't waste your time\n",
    "Here's why\n",
    "Clap along if you feel like a room without a roof\n",
    "(Because I'm happy)\n",
    "Clap along if you feel like happiness is the truth\n",
    "(Because I'm happy)\n",
    "Clap along if you know what happiness is to you\n",
    "(Because I'm happy)\n",
    "Clap along if you feel like that's what you wanna do\n",
    "Uh, bring me down\n",
    "Can't nothing, bring me down\n",
    "My level's too high to bring me down\n",
    "Can't nothing, bring me down, I said\n",
    "Bring me down, can't nothing\n",
    "Bring me down\n",
    "My level's too high to bring me down\n",
    "Can't nothing, bring me down, I said\n",
    "Clap along if you feel like a room without a roof\n",
    "(Because I'm happy)\n",
    "Clap along if you feel like happiness is the truth\n",
    "(Because I'm happy)\n",
    "Clap along if you know what happiness is to you\n",
    "(Because I'm happy)\n",
    "Clap along if you feel like that's what you wanna do\n",
    "Clap along if you feel like a room without a roof\n",
    "(Because I'm happy)\n",
    "Clap along if you feel like happiness is the truth\n",
    "(Because I'm happy)\n",
    "Clap along if you know what happiness is to you\n",
    "(Because I'm happy)\n",
    "Clap along if you feel like that's what you wanna do\n",
    "Uh, bring me down (Happy, happy, happy, happy)\n",
    "Can't nothing (Happy, happy, happy, happy)\n",
    "Bring me down, my level's too high\n",
    "To bring me down (Happy, happy, happy, happy)\n",
    "Can't nothing (Happy, happy, happy, happy)\n",
    "Bring me down, I said\n",
    "Clap along if you feel like a room without a roof\n",
    "(Because I'm happy)\n",
    "Clap along if you feel like happiness is the truth\n",
    "(Because I'm happy)\n",
    "Clap along if you know what happiness is to you (ayy, ayy, ayy)\n",
    "(Because I'm happy)\n",
    "Clap along if you feel like that's what you wanna do\n",
    "Clap along if you feel like a room without a roof\n",
    "(Because I'm happy)\n",
    "Clap along if you feel like happiness is the truth\n",
    "(Because I'm happy)\n",
    "Clap along if you know what happiness is to you (hey)\n",
    "(Because I'm happy)\n",
    "Clap along if you feel like that's what you wanna do'''\n",
    "\n",
    "lyrics = lyrics.replace('\\n', ' ')\n",
    "\n",
    "# if lyrics length is over 512 just take the first 512\n",
    "if len(lyrics) > 512:\n",
    "  lyrics = lyrics[:512]\n",
    "\n",
    "print(lyrics)"
   ]
  },
  {
   "cell_type": "code",
   "execution_count": 317,
   "metadata": {},
   "outputs": [
    {
     "name": "stderr",
     "output_type": "stream",
     "text": [
      "c:\\Users\\steph\\anaconda3\\envs\\main\\Lib\\site-packages\\transformers\\pipelines\\text_classification.py:104: UserWarning: `return_all_scores` is now deprecated,  if want a similar functionality use `top_k=None` instead of `return_all_scores=True` or `top_k=1` instead of `return_all_scores=False`.\n",
      "  warnings.warn(\n"
     ]
    },
    {
     "name": "stdout",
     "output_type": "stream",
     "text": [
      "joy 0.998480498790741\n",
      "sadness 0.0005819157231599092\n"
     ]
    }
   ],
   "source": [
    "classifier = pipeline(\"text-classification\",model='bhadresh-savani/distilbert-base-uncased-emotion', return_all_scores=True)\n",
    "prediction = classifier(lyrics, )\n",
    "\n",
    "max_score = 0\n",
    "max_label = \"\"\n",
    "for i in prediction[0]:\n",
    "  if i['score'] > max_score:\n",
    "    max_score = i['score']\n",
    "    max_label = i['label']\n",
    "\n",
    "print(max_label, max_score)\n",
    "\n",
    "# output second most likely emotion\n",
    "second_max_score = 0\n",
    "second_max_label = \"\"\n",
    "for i in prediction[0]:\n",
    "  if i['score'] > second_max_score and i['score'] < max_score:\n",
    "    second_max_score = i['score']\n",
    "    second_max_label = i['label']\n",
    "\n",
    "print(second_max_label, second_max_score)\n"
   ]
  },
  {
   "cell_type": "markdown",
   "metadata": {},
   "source": [
    "Gives either: sadness, joy, love, anger, fear, surprise"
   ]
  },
  {
   "cell_type": "code",
   "execution_count": 318,
   "metadata": {},
   "outputs": [],
   "source": [
    "# Colour channel ranges - can adjust these\n",
    "blue_ranges = [(0, 50), (0, 150), (150, 255)]\n",
    "purple_ranges = [(100, 255), (0, 50), (100, 255)]\n",
    "red_ranges = [(150, 255), (0, 50), (0, 50)]\n",
    "orange_ranges = [(200, 255), (50, 150), (0, 50)]\n",
    "yellow_ranges = [(200, 255), (200, 255), (0, 50)]\n",
    "green_ranges = [(0, 50), (150, 255), (0, 50)]"
   ]
  },
  {
   "cell_type": "code",
   "execution_count": 319,
   "metadata": {},
   "outputs": [
    {
     "data": {
      "image/png": "[encoded data removed]",
      "text/plain": [
       "<Figure size 100x100 with 1 Axes>"
      ]
     },
     "metadata": {},
     "output_type": "display_data"
    },
    {
     "data": {
      "image/png": "[encoded data removed]",
      "text/plain": [
       "<Figure size 100x100 with 1 Axes>"
      ]
     },
     "metadata": {},
     "output_type": "display_data"
    },
    {
     "data": {
      "image/png": "[encoded data removed]",
      "text/plain": [
       "<Figure size 100x100 with 1 Axes>"
      ]
     },
     "metadata": {},
     "output_type": "display_data"
    },
    {
     "data": {
      "image/png": "[encoded data removed]",
      "text/plain": [
       "<Figure size 100x100 with 1 Axes>"
      ]
     },
     "metadata": {},
     "output_type": "display_data"
    },
    {
     "data": {
      "image/png": "[encoded data removed]",
      "text/plain": [
       "<Figure size 100x100 with 1 Axes>"
      ]
     },
     "metadata": {},
     "output_type": "display_data"
    },
    {
     "data": {
      "image/png": "[encoded data removed]",
      "text/plain": [
       "<Figure size 100x100 with 1 Axes>"
      ]
     },
     "metadata": {},
     "output_type": "display_data"
    }
   ],
   "source": [
    "import random\n",
    "\n",
    "# This is just to create a random colour for testing\n",
    "# not part of the actual code.\n",
    "def generate_random_colour(channel_ranges):\n",
    "    random_values = []\n",
    "\n",
    "    for channel_range in channel_ranges:\n",
    "        random_channel_value = random.randint(channel_range[0], channel_range[1])\n",
    "        random_values.append(random_channel_value)\n",
    "\n",
    "    return tuple(random_values)\n",
    "\n",
    "# Example\n",
    "random_blue_colour = generate_random_colour(blue_ranges)\n",
    "random_purple_colour = generate_random_colour(purple_ranges)\n",
    "random_red_colour = generate_random_colour(red_ranges)\n",
    "random_orange_colour = generate_random_colour(orange_ranges)\n",
    "random_yellow_colour = generate_random_colour(yellow_ranges)\n",
    "random_green_colour = generate_random_colour(green_ranges)\n",
    "\n",
    "import matplotlib.pyplot as plt\n",
    "\n",
    "def display_colour(colour, colour_name):\n",
    "    plt.figure(figsize=(1, 1))  # Set the figure size to be smaller (1 inch by 1 inch)\n",
    "    plt.title(colour_name + ' Range Colour')\n",
    "    plt.imshow([[colour]], extent=[0, 1, 0, 1], aspect='auto')\n",
    "    plt.axis('off')\n",
    "    plt.show()\n",
    "\n",
    "\n",
    "display_colour(random_blue_colour, 'Blue')\n",
    "display_colour(random_purple_colour, 'Purple')\n",
    "display_colour(random_red_colour, 'Red')\n",
    "display_colour(random_orange_colour, 'Orange')\n",
    "display_colour(random_yellow_colour, 'Yellow')\n",
    "display_colour(random_green_colour, 'Green')\n",
    "\n"
   ]
  },
  {
   "cell_type": "code",
   "execution_count": 288,
   "metadata": {},
   "outputs": [
    {
     "name": "stdout",
     "output_type": "stream",
     "text": [
      "[(0, 50), (0, 150), (150, 255)] [(200, 255), (50, 150), (0, 50)] (0.5, 1.0) 0.5\n"
     ]
    }
   ],
   "source": [
    "#based on the main emotion and secondary emotion provide the two ranges\n",
    "# Set baseline colourset, brightness range and ripple characteristics (i.e. how quick or slow)\n",
    "\n",
    "match max_label:\n",
    "    case \"sadness\":\n",
    "        base_colour = blue_ranges\n",
    "        brightness_range = (0.5, 1.0)\n",
    "        ripple_speed = 0.5\n",
    "    case \"joy\":\n",
    "        base_colour = yellow_ranges\n",
    "        brightness_range = (0.7, 1.0)\n",
    "        ripple_speed = 1.0\n",
    "    case \"anger\":\n",
    "        base_colour = red_ranges\n",
    "        brightness_range = (0.5, 1.0)\n",
    "        ripple_speed = 0.5\n",
    "    case \"fear\":\n",
    "        base_colour = purple_ranges\n",
    "        brightness_range = (0.5, 1.0)\n",
    "        ripple_speed = 0.5\n",
    "    case \"love\":\n",
    "        base_colour = orange_ranges\n",
    "        brightness_range = (0.7, 1.0)\n",
    "        ripple_speed = 1.0\n",
    "    case \"surprise\":\n",
    "        base_colour = green_ranges\n",
    "        brightness_range = (0.7, 1.0)\n",
    "        ripple_speed = 1.0\n",
    "    case _:\n",
    "        base_colour = yellow_ranges\n",
    "        brightness_range = (0.7, 1.0)\n",
    "        ripple_speed = 1.0\n",
    "    \n",
    "match second_max_label:\n",
    "    case \"sadness\": # blue + purple\n",
    "        secondary_colour = blue_ranges\n",
    "    case \"joy\":\n",
    "        secondary_colour = yellow_ranges\n",
    "    case \"anger\": # red + orange\n",
    "        secondary_colour = red_ranges\n",
    "    case \"fear\":\n",
    "        secondary_colour = green_ranges\n",
    "    case \"love\": # yellow + green\n",
    "        secondary_colour = orange_ranges\n",
    "    case \"surprise\": #orange + yellow\n",
    "        secondary_colour = green_ranges\n",
    "    case _:\n",
    "        secondary_colour = yellow_ranges\n",
    "\n",
    "print(base_colour, secondary_colour, brightness_range, ripple_speed)"
   ]
  }
 ],
 "metadata": {
  "kernelspec": {
   "display_name": "main",
   "language": "python",
   "name": "python3"
  },
  "language_info": {
   "codemirror_mode": {
    "name": "ipython",
    "version": 3
   },
   "file_extension": ".py",
   "mimetype": "text/x-python",
   "name": "python",
   "nbconvert_exporter": "python",
   "pygments_lexer": "ipython3",
   "version": "3.11.5"
  }
 },
 "nbformat": 4,
 "nbformat_minor": 2
}
