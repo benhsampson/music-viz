{
 "cells": [
  {
   "cell_type": "code",
   "execution_count": 1,
   "metadata": {},
   "outputs": [
    {
     "name": "stdout",
     "output_type": "stream",
     "text": [
      "Detected Key: F\n"
     ]
    }
   ],
   "source": [
    "import librosa\n",
    "import numpy as np\n",
    "\n",
    "# Load the audio file\n",
    "audio_file_path = 'data/lofi-type-beat.mp3'\n",
    "y, sr = librosa.load(audio_file_path)\n",
    "\n",
    "# Compute the Chroma Short-Time Fourier Transform (chroma_stft)\n",
    "chromagram = librosa.feature.chroma_stft(y=y, sr=sr)\n",
    "\n",
    "# Calculate the mean chroma feature across time\n",
    "mean_chroma = np.mean(chromagram, axis=1)\n",
    "\n",
    "# Define the mapping of chroma features to keys\n",
    "chroma_to_key = ['C', 'C#', 'D', 'D#', 'E', 'F', 'F#', 'G', 'G#', 'A', 'A#', 'B']\n",
    "\n",
    "# Find the key by selecting the maximum chroma feature\n",
    "estimated_key_index = np.argmax(mean_chroma)\n",
    "estimated_key = chroma_to_key[estimated_key_index]\n",
    "\n",
    "# Print the detected key\n",
    "print(\"Detected Key:\", estimated_key)"
   ]
  },
  {
   "cell_type": "code",
   "execution_count": null,
   "metadata": {},
   "outputs": [],
   "source": []
  }
 ],
 "metadata": {
  "kernelspec": {
   "display_name": "Python 3",
   "language": "python",
   "name": "python3"
  },
  "language_info": {
   "codemirror_mode": {
    "name": "ipython",
    "version": 3
   },
   "file_extension": ".py",
   "mimetype": "text/x-python",
   "name": "python",
   "nbconvert_exporter": "python",
   "pygments_lexer": "ipython3",
   "version": "3.9.13"
  }
 },
 "nbformat": 4,
 "nbformat_minor": 2
}
